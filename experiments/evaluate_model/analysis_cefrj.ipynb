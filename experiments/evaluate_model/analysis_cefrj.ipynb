{
 "cells": [
  {
   "cell_type": "code",
   "execution_count": 2,
   "metadata": {},
   "outputs": [],
   "source": [
    "import os\n",
    "import json\n",
    "import pandas as pd\n",
    "import spacy\n",
    "from tqdm import tqdm\n",
    "from collections import defaultdict, Counter"
   ]
  },
  {
   "cell_type": "code",
   "execution_count": 3,
   "metadata": {},
   "outputs": [],
   "source": [
    "nlp = spacy.load('en_core_web_sm')"
   ]
  },
  {
   "cell_type": "code",
   "execution_count": 4,
   "metadata": {},
   "outputs": [],
   "source": [
    "def ppo_vocab_cnt(eval_type, evaluate_id):\n",
    "    evaluated_dpath = \"/data/group1/z44383r/dev/rl-nlg/experiments/evaluate_model/outputs\"\n",
    "    evaluated_result_fpath = os.path.join(evaluated_dpath, eval_type, evaluate_id, \"result.json\")\n",
    "    result = json.load(open(evaluated_result_fpath))\n",
    "    cefrj_wl_fpath = \"/data/group1/z44383r/dev/rl-nlg/experiments/vocabulary_level/olp-en-cefrj/cefrj-vocabulary-profile-1.5.csv\"\n",
    "    df = pd.read_csv(cefrj_wl_fpath)\n",
    "\n",
    "    levels = {\n",
    "        'A1': df[df['CEFR']=='A1'],\n",
    "        'A2': df[(df['CEFR']=='A2')],\n",
    "        'B1': df[(df['CEFR']=='B1')],\n",
    "        'B2': df[(df['CEFR']=='B2')],\n",
    "    }\n",
    "\n",
    "    cefrj_wl = defaultdict(list)\n",
    "    for level in levels:\n",
    "        vocabulary = []\n",
    "        for word in levels[level]['headword']:\n",
    "            word = word.lower()\n",
    "            vocabulary += word.split(\"/\")\n",
    "        cefrj_wl[level] = set(vocabulary)\n",
    "\n",
    "    vocab_level_dist = []\n",
    "    for r in tqdm(result):\n",
    "        doc = nlp(r[\"gen_text\"])\n",
    "        for token in doc:\n",
    "            if not token.is_alpha: # アルファベットではない場合は除外\n",
    "                vocab_level_dist.append('NonAlpha+Stop')\n",
    "            elif token.is_stop: # stopwordは除外\n",
    "                vocab_level_dist.append('NonAlpha+Stop')\n",
    "            elif token.tag_ in ['NNP', 'NNPS']: # 固有名詞は除外\n",
    "                vocab_level_dist.append('NNP(S)')\n",
    "            elif token.lemma_.lower() in cefrj_wl['A1']:\n",
    "                vocab_level_dist.append('A1')\n",
    "            elif token.lemma_.lower() in cefrj_wl['A2']:\n",
    "                vocab_level_dist.append('A2')\n",
    "            elif token.lemma_.lower() in cefrj_wl['B1']:\n",
    "                vocab_level_dist.append('B1')\n",
    "            elif token.lemma_.lower() in cefrj_wl['B2']:\n",
    "                vocab_level_dist.append('B2')\n",
    "            else:\n",
    "                vocab_level_dist.append('OOV')\n",
    "    return Counter(vocab_level_dist)"
   ]
  },
  {
   "cell_type": "code",
   "execution_count": 8,
   "metadata": {},
   "outputs": [],
   "source": [
    "def sum_cnt(cnt, levels):\n",
    "    return sum(cnt[l] for l in levels)"
   ]
  },
  {
   "cell_type": "code",
   "execution_count": 55,
   "metadata": {},
   "outputs": [
    {
     "name": "stderr",
     "output_type": "stream",
     "text": [
      "100%|██████████| 7372/7372 [00:41<00:00, 177.51it/s]\n",
      "100%|██████████| 7372/7372 [00:42<00:00, 174.91it/s]\n",
      "100%|██████████| 7372/7372 [00:41<00:00, 176.90it/s]\n",
      "100%|██████████| 7372/7372 [00:41<00:00, 176.16it/s]\n",
      "100%|██████████| 7372/7372 [00:41<00:00, 176.54it/s]\n",
      "100%|██████████| 7372/7372 [00:41<00:00, 177.41it/s]\n",
      "100%|██████████| 7372/7372 [00:41<00:00, 177.74it/s]\n",
      "100%|██████████| 7372/7372 [00:41<00:00, 178.00it/s]\n",
      "100%|██████████| 7372/7372 [00:41<00:00, 179.06it/s]\n",
      "100%|██████████| 7372/7372 [00:41<00:00, 179.35it/s]\n",
      "100%|██████████| 7372/7372 [00:41<00:00, 178.91it/s]\n",
      "100%|██████████| 7372/7372 [00:41<00:00, 178.75it/s]\n",
      "100%|██████████| 7372/7372 [00:40<00:00, 180.48it/s]\n",
      "100%|██████████| 7372/7372 [00:41<00:00, 179.18it/s]\n",
      "100%|██████████| 7372/7372 [00:40<00:00, 179.83it/s]\n",
      "100%|██████████| 7372/7372 [00:40<00:00, 179.85it/s]\n",
      "100%|██████████| 7372/7372 [00:40<00:00, 180.65it/s]\n",
      "100%|██████████| 7372/7372 [00:41<00:00, 179.37it/s]\n",
      "100%|██████████| 7372/7372 [00:41<00:00, 178.57it/s]\n",
      "100%|██████████| 7372/7372 [00:41<00:00, 178.37it/s]\n"
     ]
    }
   ],
   "source": [
    "cnt_A1_it100_milu = ppo_vocab_cnt(\"ppo\", \"it100-milu-cefrjA1-sys--seed12\") \\\n",
    "                    + ppo_vocab_cnt(\"ppo\", \"it100-milu-cefrjA1-sys--seed34\") \\\n",
    "                    + ppo_vocab_cnt(\"ppo\", \"it100-milu-cefrjA1-sys--seed56\") \\\n",
    "                    + ppo_vocab_cnt(\"ppo\", \"it100-milu-cefrjA1-sys--seed78\") \\\n",
    "                    + ppo_vocab_cnt(\"ppo\", \"it100-milu-cefrjA1-sys--seed90\")\n",
    "\n",
    "cnt_A2_it100_milu = ppo_vocab_cnt(\"ppo\", \"it100-milu-cefrjA2-sys--seed12\") \\\n",
    "                    + ppo_vocab_cnt(\"ppo\", \"it100-milu-cefrjA2-sys--seed34\") \\\n",
    "                    + ppo_vocab_cnt(\"ppo\", \"it100-milu-cefrjA2-sys--seed56\") \\\n",
    "                    + ppo_vocab_cnt(\"ppo\", \"it100-milu-cefrjA2-sys--seed78\") \\\n",
    "                    + ppo_vocab_cnt(\"ppo\", \"it100-milu-cefrjA2-sys--seed90\")\n",
    "\n",
    "cnt_B1_it100_milu = ppo_vocab_cnt(\"ppo\", \"it100-milu-cefrjB1-sys--seed12\") \\\n",
    "                    + ppo_vocab_cnt(\"ppo\", \"it100-milu-cefrjB1-sys--seed34\") \\\n",
    "                    + ppo_vocab_cnt(\"ppo\", \"it100-milu-cefrjB1-sys--seed56\") \\\n",
    "                    + ppo_vocab_cnt(\"ppo\", \"it100-milu-cefrjB1-sys--seed78\") \\\n",
    "                    + ppo_vocab_cnt(\"ppo\", \"it100-milu-cefrjB1-sys--seed90\")\n",
    "\n",
    "cnt_B2_it100_milu = ppo_vocab_cnt(\"ppo\", \"it100-milu-cefrjB2-sys--seed12\") \\\n",
    "                    + ppo_vocab_cnt(\"ppo\", \"it100-milu-cefrjB2-sys--seed34\") \\\n",
    "                    + ppo_vocab_cnt(\"ppo\", \"it100-milu-cefrjB2-sys--seed56\") \\\n",
    "                    + ppo_vocab_cnt(\"ppo\", \"it100-milu-cefrjB2-sys--seed78\") \\\n",
    "                    + ppo_vocab_cnt(\"ppo\", \"it100-milu-cefrjB2-sys--seed90\")"
   ]
  },
  {
   "cell_type": "code",
   "execution_count": 22,
   "metadata": {},
   "outputs": [
    {
     "name": "stderr",
     "output_type": "stream",
     "text": [
      "100%|██████████| 7372/7372 [00:41<00:00, 177.23it/s]\n",
      "100%|██████████| 7372/7372 [00:42<00:00, 175.14it/s]\n",
      "100%|██████████| 7372/7372 [00:42<00:00, 173.00it/s]\n",
      "100%|██████████| 7372/7372 [00:43<00:00, 171.41it/s]\n",
      "100%|██████████| 7372/7372 [00:42<00:00, 175.31it/s]\n",
      "100%|██████████| 7372/7372 [00:41<00:00, 176.34it/s]\n",
      "100%|██████████| 7372/7372 [00:41<00:00, 177.83it/s]\n",
      "100%|██████████| 7372/7372 [00:41<00:00, 177.14it/s]\n",
      "100%|██████████| 7372/7372 [00:41<00:00, 176.69it/s]\n",
      "100%|██████████| 7372/7372 [00:41<00:00, 176.71it/s]\n",
      "100%|██████████| 7372/7372 [00:41<00:00, 177.23it/s]\n",
      "100%|██████████| 7372/7372 [00:41<00:00, 177.18it/s]\n",
      "100%|██████████| 7372/7372 [00:41<00:00, 177.33it/s]\n",
      "100%|██████████| 7372/7372 [00:41<00:00, 176.82it/s]\n",
      "100%|██████████| 7372/7372 [00:41<00:00, 178.52it/s]\n",
      "100%|██████████| 7372/7372 [00:41<00:00, 178.90it/s]\n",
      "100%|██████████| 7372/7372 [00:41<00:00, 178.95it/s]\n",
      "100%|██████████| 7372/7372 [00:41<00:00, 178.34it/s]\n",
      "100%|██████████| 7372/7372 [00:41<00:00, 178.43it/s]\n",
      "100%|██████████| 7372/7372 [00:41<00:00, 179.25it/s]\n"
     ]
    }
   ],
   "source": [
    "cnt_A1_milu = ppo_vocab_cnt(\"ppo\", \"milu-cefrjA1-sys--seed12\") \\\n",
    "            + ppo_vocab_cnt(\"ppo\", \"milu-cefrjA1-sys--seed34\") \\\n",
    "            + ppo_vocab_cnt(\"ppo\", \"milu-cefrjA1-sys--seed56\") \\\n",
    "            + ppo_vocab_cnt(\"ppo\", \"milu-cefrjA1-sys--seed78\") \\\n",
    "            + ppo_vocab_cnt(\"ppo\", \"milu-cefrjA1-sys--seed90\")\n",
    "\n",
    "cnt_A2_milu = ppo_vocab_cnt(\"ppo\", \"milu-cefrjA2-sys--seed12\") \\\n",
    "            + ppo_vocab_cnt(\"ppo\", \"milu-cefrjA2-sys--seed34\") \\\n",
    "            + ppo_vocab_cnt(\"ppo\", \"milu-cefrjA2-sys--seed56\") \\\n",
    "            + ppo_vocab_cnt(\"ppo\", \"milu-cefrjA2-sys--seed78\") \\\n",
    "            + ppo_vocab_cnt(\"ppo\", \"milu-cefrjA2-sys--seed90\")\n",
    "\n",
    "cnt_B1_milu = ppo_vocab_cnt(\"ppo\", \"milu-cefrjB1-sys--seed12\") \\\n",
    "            + ppo_vocab_cnt(\"ppo\", \"milu-cefrjB1-sys--seed34\") \\\n",
    "            + ppo_vocab_cnt(\"ppo\", \"milu-cefrjB1-sys--seed56\") \\\n",
    "            + ppo_vocab_cnt(\"ppo\", \"milu-cefrjB1-sys--seed78\") \\\n",
    "            + ppo_vocab_cnt(\"ppo\", \"milu-cefrjB1-sys--seed90\")\n",
    "\n",
    "cnt_B2_milu = ppo_vocab_cnt(\"ppo\", \"milu-cefrjB2-sys--seed12\") \\\n",
    "            + ppo_vocab_cnt(\"ppo\", \"milu-cefrjB2-sys--seed34\") \\\n",
    "            + ppo_vocab_cnt(\"ppo\", \"milu-cefrjB2-sys--seed56\") \\\n",
    "            + ppo_vocab_cnt(\"ppo\", \"milu-cefrjB2-sys--seed78\") \\\n",
    "            + ppo_vocab_cnt(\"ppo\", \"milu-cefrjB2-sys--seed90\")"
   ]
  },
  {
   "cell_type": "code",
   "execution_count": 40,
   "metadata": {},
   "outputs": [
    {
     "name": "stderr",
     "output_type": "stream",
     "text": [
      "100%|██████████| 7372/7372 [00:41<00:00, 176.36it/s]\n",
      "100%|██████████| 7372/7372 [00:41<00:00, 177.72it/s]\n",
      "100%|██████████| 7372/7372 [00:41<00:00, 177.49it/s]\n",
      "100%|██████████| 7372/7372 [00:41<00:00, 177.92it/s]\n",
      "100%|██████████| 7372/7372 [00:40<00:00, 181.05it/s]\n",
      "100%|██████████| 7372/7372 [00:40<00:00, 180.08it/s]\n",
      "100%|██████████| 7372/7372 [00:41<00:00, 178.69it/s]\n",
      "100%|██████████| 7372/7372 [00:41<00:00, 178.97it/s]\n",
      "100%|██████████| 7372/7372 [00:41<00:00, 179.78it/s]\n",
      "100%|██████████| 7372/7372 [00:40<00:00, 180.85it/s]\n",
      "100%|██████████| 7372/7372 [00:41<00:00, 179.45it/s]\n",
      "100%|██████████| 7372/7372 [00:40<00:00, 181.92it/s]\n",
      "100%|██████████| 7372/7372 [00:40<00:00, 183.09it/s]\n",
      "100%|██████████| 7372/7372 [00:40<00:00, 180.67it/s]\n",
      "100%|██████████| 7372/7372 [00:40<00:00, 180.15it/s]\n",
      "100%|██████████| 7372/7372 [00:40<00:00, 182.56it/s]\n",
      "100%|██████████| 7372/7372 [00:40<00:00, 179.98it/s]\n",
      "100%|██████████| 7372/7372 [00:40<00:00, 183.94it/s]\n",
      "100%|██████████| 7372/7372 [00:41<00:00, 179.09it/s]\n",
      "100%|██████████| 7372/7372 [00:40<00:00, 181.57it/s]\n"
     ]
    }
   ],
   "source": [
    "cnt_A1_bert = ppo_vocab_cnt(\"ppo\", \"bert-cefrjA1-sys--seed12\") \\\n",
    "            + ppo_vocab_cnt(\"ppo\", \"bert-cefrjA1-sys--seed34\") \\\n",
    "            + ppo_vocab_cnt(\"ppo\", \"bert-cefrjA1-sys--seed56\") \\\n",
    "            + ppo_vocab_cnt(\"ppo\", \"bert-cefrjA1-sys--seed78\") \\\n",
    "            + ppo_vocab_cnt(\"ppo\", \"bert-cefrjA1-sys--seed90\")\n",
    "\n",
    "cnt_A2_bert = ppo_vocab_cnt(\"ppo\", \"bert-cefrjA2-sys--seed12\") \\\n",
    "            + ppo_vocab_cnt(\"ppo\", \"bert-cefrjA2-sys--seed34\") \\\n",
    "            + ppo_vocab_cnt(\"ppo\", \"bert-cefrjA2-sys--seed56\") \\\n",
    "            + ppo_vocab_cnt(\"ppo\", \"bert-cefrjA2-sys--seed78\") \\\n",
    "            + ppo_vocab_cnt(\"ppo\", \"bert-cefrjA2-sys--seed90\")\n",
    "\n",
    "cnt_B1_bert = ppo_vocab_cnt(\"ppo\", \"bert-cefrjB1-sys--seed12\") \\\n",
    "            + ppo_vocab_cnt(\"ppo\", \"bert-cefrjB1-sys--seed34\") \\\n",
    "            + ppo_vocab_cnt(\"ppo\", \"bert-cefrjB1-sys--seed56\") \\\n",
    "            + ppo_vocab_cnt(\"ppo\", \"bert-cefrjB1-sys--seed78\") \\\n",
    "            + ppo_vocab_cnt(\"ppo\", \"bert-cefrjB1-sys--seed90\")\n",
    "\n",
    "cnt_B2_bert = ppo_vocab_cnt(\"ppo\", \"bert-cefrjB2-sys--seed12\") \\\n",
    "            + ppo_vocab_cnt(\"ppo\", \"bert-cefrjB2-sys--seed34\") \\\n",
    "            + ppo_vocab_cnt(\"ppo\", \"bert-cefrjB2-sys--seed56\") \\\n",
    "            + ppo_vocab_cnt(\"ppo\", \"bert-cefrjB2-sys--seed78\") \\\n",
    "            + ppo_vocab_cnt(\"ppo\", \"bert-cefrjB2-sys--seed90\")"
   ]
  },
  {
   "cell_type": "code",
   "execution_count": 25,
   "metadata": {},
   "outputs": [
    {
     "name": "stderr",
     "output_type": "stream",
     "text": [
      "100%|██████████| 7372/7372 [00:42<00:00, 175.10it/s]\n"
     ]
    }
   ],
   "source": [
    "cnt_full_gpt2 = ppo_vocab_cnt(\"baselines\", \"gpt2-bert-cefrjA1-sys\")\n",
    "# cnt_full_gpt2 = ppo_vocab_cnt(\"baselines\", \"gpt2-bert-cefrjA2-sys\")\n",
    "# cnt_full_gpt2 = ppo_vocab_cnt(\"baselines\", \"gpt2-bert-cefrjB1-sys\")\n",
    "# cnt_full_gpt2 = ppo_vocab_cnt(\"baselines\", \"gpt2-bert-cefrjB2-sys\")"
   ]
  },
  {
   "cell_type": "code",
   "execution_count": 5,
   "metadata": {},
   "outputs": [
    {
     "name": "stderr",
     "output_type": "stream",
     "text": [
      "100%|██████████| 7372/7372 [00:55<00:00, 133.68it/s]\n"
     ]
    }
   ],
   "source": [
    "cnt_full_scgpt = ppo_vocab_cnt(\"baselines\", \"scgpt-bert-cefrjA1-sys\")\n",
    "# cnt_full_scgpt += ppo_vocab_cnt(\"baselines\", \"scgpt-bert-cefrjA2-sys\")\n",
    "# cnt_full_scgpt += ppo_vocab_cnt(\"baselines\", \"scgpt-bert-cefrjB1-sys\")\n",
    "# cnt_full_scgpt += ppo_vocab_cnt(\"baselines\", \"scgpt-bert-cefrjB2-sys\")"
   ]
  },
  {
   "cell_type": "code",
   "execution_count": 17,
   "metadata": {},
   "outputs": [
    {
     "name": "stderr",
     "output_type": "stream",
     "text": [
      "100%|██████████| 7372/7372 [00:42<00:00, 174.01it/s]\n"
     ]
    }
   ],
   "source": [
    "cnt_full_sclstm = ppo_vocab_cnt(\"baselines\", \"sclstm-bert-cefrjA1-sys\")\n",
    "# cnt_full_sclstm += ppo_vocab_cnt(\"baselines\", \"sclstm-bert-cefrjA2-sys\")\n",
    "# cnt_full_sclstm += ppo_vocab_cnt(\"baselines\", \"sclstm-bert-cefrjB1-sys\")\n",
    "# cnt_full_sclstm += ppo_vocab_cnt(\"baselines\", \"sclstm-bert-cefrjB2-sys\")"
   ]
  },
  {
   "cell_type": "code",
   "execution_count": 72,
   "metadata": {},
   "outputs": [],
   "source": [
    "total = [\"A1\", \"A2\", \"B1\", \"B2\", \"OOV\"]"
   ]
  },
  {
   "cell_type": "code",
   "execution_count": 75,
   "metadata": {},
   "outputs": [
    {
     "name": "stdout",
     "output_type": "stream",
     "text": [
      "sclstm:  0.672660413225716\n",
      "scgpt:  0.6270900058003177\n",
      "gpt2:  0.647630762021906\n",
      "gpt2ppo-milu:  0.6809635648089374\n",
      "gpt2ppo-it100-milu:  0.68213765511802\n",
      "gpt2ppo-bert:  0.6695149503338425\n"
     ]
    }
   ],
   "source": [
    "levels = [\"A1\"]\n",
    "print( \"sclstm: \", sum_cnt(cnt_full_sclstm, levels) / sum_cnt(cnt_full_sclstm, total) )\n",
    "print( \"scgpt: \", sum_cnt(cnt_full_scgpt, levels) / sum_cnt(cnt_full_scgpt, total) )\n",
    "print( \"gpt2: \", sum_cnt(cnt_full_gpt2, levels) / sum_cnt(cnt_full_gpt2, total) )\n",
    "print( \"gpt2ppo-milu: \", sum_cnt(cnt_A1_milu, levels) / sum_cnt(cnt_A1_milu, total) )\n",
    "print( \"gpt2ppo-it100-milu: \", sum_cnt(cnt_A1_it100_milu, levels) / sum_cnt(cnt_A1_it100_milu, total) )\n",
    "print( \"gpt2ppo-bert: \", sum_cnt(cnt_A1_bert, levels) / sum_cnt(cnt_A1_bert, total) )"
   ]
  },
  {
   "cell_type": "code",
   "execution_count": 76,
   "metadata": {},
   "outputs": [
    {
     "name": "stdout",
     "output_type": "stream",
     "text": [
      "sclstm:  0.7664308641590576\n",
      "scgpt:  0.7361864171689405\n",
      "gpt2:  0.7723305804486617\n",
      "gpt2ppo-milu:  0.7982278622888348\n",
      "gpt2ppo-it100-milu:  0.794923707471236\n",
      "gpt2ppo-bert:  0.7956764950920514\n"
     ]
    }
   ],
   "source": [
    "levels = [\"A1\", \"A2\"]\n",
    "print( \"sclstm: \", sum_cnt(cnt_full_sclstm, levels) / sum_cnt(cnt_full_sclstm, total) )\n",
    "print( \"scgpt: \", sum_cnt(cnt_full_scgpt, levels) / sum_cnt(cnt_full_scgpt, total) )\n",
    "print( \"gpt2: \", sum_cnt(cnt_full_gpt2, levels) / sum_cnt(cnt_full_gpt2, total) )\n",
    "print( \"gpt2ppo-milu: \", sum_cnt(cnt_A2_milu, levels) / sum_cnt(cnt_A2_milu, total) )\n",
    "print( \"gpt2ppo-it100-milu: \", sum_cnt(cnt_A2_it100_milu, levels) / sum_cnt(cnt_A2_it100_milu, total) )\n",
    "print( \"gpt2ppo-bert: \", sum_cnt(cnt_A2_bert, levels) / sum_cnt(cnt_A2_bert, total) )"
   ]
  },
  {
   "cell_type": "code",
   "execution_count": 77,
   "metadata": {},
   "outputs": [
    {
     "name": "stdout",
     "output_type": "stream",
     "text": [
      "sclstm:  0.8836049736669886\n",
      "scgpt:  0.8442488588505284\n",
      "gpt2:  0.8721372928014994\n",
      "gpt2ppo-milu:  0.8800404311056352\n",
      "gpt2ppo-it100-milu:  0.8823642283637846\n",
      "gpt2ppo-bert:  0.8804230755267266\n"
     ]
    }
   ],
   "source": [
    "levels = [\"A1\", \"A2\", \"B1\"]\n",
    "print( \"sclstm: \", sum_cnt(cnt_full_sclstm, levels) / sum_cnt(cnt_full_sclstm, total) )\n",
    "print( \"scgpt: \", sum_cnt(cnt_full_scgpt, levels) / sum_cnt(cnt_full_scgpt, total) )\n",
    "print( \"gpt2: \", sum_cnt(cnt_full_gpt2, levels) / sum_cnt(cnt_full_gpt2, total) )\n",
    "print( \"gpt2ppo-milu: \", sum_cnt(cnt_B1_milu, levels) / sum_cnt(cnt_B1_milu, total) )\n",
    "print( \"gpt2ppo-it100-milu: \", sum_cnt(cnt_B1_it100_milu, levels) / sum_cnt(cnt_B1_it100_milu, total) )\n",
    "print( \"gpt2ppo-bert: \", sum_cnt(cnt_B1_bert, levels) / sum_cnt(cnt_B1_bert, total) )"
   ]
  },
  {
   "cell_type": "code",
   "execution_count": 78,
   "metadata": {},
   "outputs": [
    {
     "name": "stdout",
     "output_type": "stream",
     "text": [
      "sclstm:  0.9165757736295927\n",
      "scgpt:  0.8674501298766802\n",
      "gpt2:  0.9025361682188251\n",
      "gpt2ppo-milu:  0.9100049757885411\n",
      "gpt2ppo-it100-milu:  0.9113969557746444\n",
      "gpt2ppo-bert:  0.9104262401966009\n"
     ]
    }
   ],
   "source": [
    "levels = [\"A1\", \"A2\", \"B1\", \"B2\"]\n",
    "print( \"sclstm: \", sum_cnt(cnt_full_sclstm, levels) / sum_cnt(cnt_full_sclstm, total) )\n",
    "print( \"scgpt: \", sum_cnt(cnt_full_scgpt, levels) / sum_cnt(cnt_full_scgpt, total) )\n",
    "print( \"gpt2: \", sum_cnt(cnt_full_gpt2, levels) / sum_cnt(cnt_full_gpt2, total) )\n",
    "print( \"gpt2ppo-milu: \", sum_cnt(cnt_B2_milu, levels) / sum_cnt(cnt_B2_milu, total) )\n",
    "print( \"gpt2ppo-it100-milu: \", sum_cnt(cnt_B2_it100_milu, levels) / sum_cnt(cnt_B2_it100_milu, total) )\n",
    "print( \"gpt2ppo-bert: \", sum_cnt(cnt_B2_bert, levels) / sum_cnt(cnt_B2_bert, total) )"
   ]
  },
  {
   "cell_type": "code",
   "execution_count": null,
   "metadata": {},
   "outputs": [],
   "source": []
  }
 ],
 "metadata": {
  "interpreter": {
   "hash": "c5cf9bea3bb46037c82daed42bab7a4cc2acacb565c8010dd3aad15279f951f0"
  },
  "kernelspec": {
   "display_name": "Python 3.7.1 ('.venv': venv)",
   "language": "python",
   "name": "python3"
  },
  "language_info": {
   "codemirror_mode": {
    "name": "ipython",
    "version": 3
   },
   "file_extension": ".py",
   "mimetype": "text/x-python",
   "name": "python",
   "nbconvert_exporter": "python",
   "pygments_lexer": "ipython3",
   "version": "3.7.1"
  },
  "orig_nbformat": 4
 },
 "nbformat": 4,
 "nbformat_minor": 2
}

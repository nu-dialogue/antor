{
 "cells": [
  {
   "cell_type": "markdown",
   "metadata": {},
   "source": [
    "### PythonでのWER計算ライブラリ候補\n",
    "- [JiWER](https://github.com/jitsi/jiwer)\n",
    "- [asr evaluation](https://github.com/belambert/asr-evaluation)\n",
    "    - [edit distance](https://github.com/belambert/edit-distance)\n",
    "- [WER in python](https://github.com/zszyellow/WER-in-python)\n",
    "- [POWER](https://github.com/NickRuiz/power-asr)"
   ]
  },
  {
   "cell_type": "code",
   "execution_count": 1,
   "metadata": {},
   "outputs": [
    {
     "name": "stdout",
     "output_type": "stream",
     "text": [
      "/data/group1/z44383r/dev/rl-nlg/experiments/speech2text_data\n"
     ]
    }
   ],
   "source": [
    "%cd speech2text_data"
   ]
  },
  {
   "cell_type": "code",
   "execution_count": 3,
   "metadata": {},
   "outputs": [],
   "source": [
    "import os\n",
    "import numpy as np\n",
    "from tqdm import tqdm\n",
    "from collections import Counter\n",
    "import jiwer\n",
    "import json\n",
    "from common_utils.multiwoz_data import MultiWOZData\n",
    "from experiments.speech_error_simulation.utils import get_confusion\n",
    "from common_utils.path import ROOT_DPATH"
   ]
  },
  {
   "cell_type": "code",
   "execution_count": 4,
   "metadata": {},
   "outputs": [],
   "source": [
    "multiwoz_data = MultiWOZData()"
   ]
  },
  {
   "cell_type": "code",
   "execution_count": 42,
   "metadata": {},
   "outputs": [],
   "source": [
    "noise_type = \"background(10)\"\n",
    "part = \"val\"\n",
    "side = \"sys\""
   ]
  },
  {
   "cell_type": "code",
   "execution_count": 43,
   "metadata": {},
   "outputs": [],
   "source": [
    "speech2text_data_fpath = os.path.join(\n",
    "    ROOT_DPATH,\n",
    "    \"experiments/speech2text_data/outputs/multiwoz\",\n",
    "    noise_type,\n",
    "    f\"{part}.json\")"
   ]
  },
  {
   "cell_type": "code",
   "execution_count": 44,
   "metadata": {},
   "outputs": [],
   "source": [
    "transcript_data = json.load(open(speech2text_data_fpath))"
   ]
  },
  {
   "cell_type": "code",
   "execution_count": 41,
   "metadata": {},
   "outputs": [
    {
     "name": "stderr",
     "output_type": "stream",
     "text": [
      "100%|██████████| 999/999 [01:59<00:00,  8.37it/s]\n"
     ]
    },
    {
     "data": {
      "text/plain": [
       "0.27706873610211635"
      ]
     },
     "execution_count": 41,
     "metadata": {},
     "output_type": "execute_result"
    }
   ],
   "source": [
    "wers = []\n",
    "equals, substitutions, insertions, deletions = [], [], [], []\n",
    "for dial in tqdm(transcript_data.values()):\n",
    "    for turn in dial[\"log\"]:\n",
    "        if not turn:\n",
    "            continue\n",
    "        wers.append(jiwer.wer(turn[\"src_text\"], turn[\"transcript\"]))\n",
    "        equ, sub, ins, dlt = get_confusion(turn[\"src_text\"], turn[\"transcript\"])\n",
    "        substitutions += sub\n",
    "        insertions += ins\n",
    "        deletions += dlt\n",
    "\n",
    "np.mean(wers)"
   ]
  },
  {
   "cell_type": "code",
   "execution_count": 1,
   "metadata": {},
   "outputs": [
    {
     "ename": "NameError",
     "evalue": "name 'Counter' is not defined",
     "output_type": "error",
     "traceback": [
      "\u001b[0;31m---------------------------------------------------------------------------\u001b[0m",
      "\u001b[0;31mNameError\u001b[0m                                 Traceback (most recent call last)",
      "\u001b[0;32m/tmp/ipykernel_258/3354064545.py\u001b[0m in \u001b[0;36m<module>\u001b[0;34m\u001b[0m\n\u001b[0;32m----> 1\u001b[0;31m \u001b[0mCounter\u001b[0m\u001b[0;34m(\u001b[0m\u001b[0msubstitutions\u001b[0m\u001b[0;34m)\u001b[0m\u001b[0;34m.\u001b[0m\u001b[0mmost_common\u001b[0m\u001b[0;34m(\u001b[0m\u001b[0;34m)\u001b[0m\u001b[0;34m\u001b[0m\u001b[0;34m\u001b[0m\u001b[0m\n\u001b[0m",
      "\u001b[0;31mNameError\u001b[0m: name 'Counter' is not defined"
     ]
    }
   ],
   "source": [
    "Counter(substitutions).most_common()"
   ]
  },
  {
   "cell_type": "code",
   "execution_count": 15,
   "metadata": {},
   "outputs": [
    {
     "data": {
      "text/plain": [
       "[(('centre', 'center'), 2),\n",
       " (('5', 'five'), 2),\n",
       " (('07218068540', '0'), 1),\n",
       " (('dont', 'not'), 1),\n",
       " (('Nusha', 'newsha'), 1),\n",
       " (('Could', 'Can'), 1),\n",
       " (('youve', 'You'), 1),\n",
       " (('spelled', 'spell'), 1),\n",
       " (('CB17DY', 'Why'), 1),\n",
       " (('their', 'there'), 1),\n",
       " (('centre', 'Center'), 1),\n",
       " (('Centre', 'Center'), 1),\n",
       " (('it', 'is'), 1),\n",
       " (('The', 'a'), 1),\n",
       " (('City', 'CV'), 1),\n",
       " (('Centre', 'to'), 1),\n",
       " (('CB21SJ', '1sj'), 1),\n",
       " (('Centre', 'center'), 1),\n",
       " (('and', 'In'), 1),\n",
       " (('01223452587', '7'), 1),\n",
       " (('noodle', 'JoJo'), 1),\n",
       " (('bar', 'noodlebar'), 1),\n",
       " (('set', 'that'), 1),\n",
       " (('K2BO09VQ', 'q'), 1),\n",
       " (('head', 'have'), 1),\n",
       " (('07239644669', '9'), 1),\n",
       " (('Two', 'Restaurants'), 1),\n",
       " (('Two', 'YouTube'), 1),\n",
       " (('book', 'bring'), 1),\n",
       " (('6B5Z7VJ5', '5'), 1),\n",
       " (('TR3934', '3934'), 1),\n",
       " (('OK', 'Okay'), 1),\n",
       " (('10560', 'sixty'), 1),\n",
       " (('GBP', 'Pence'), 1),\n",
       " (('6YHB3TYA', 'a'), 1),\n",
       " (('TR8259', '8259'), 1),\n",
       " (('did', 'if'), 1),\n",
       " (('8', 'eight'), 1),\n",
       " (('guesthouses', 'houses'), 1),\n",
       " (('a', 'the'), 1),\n",
       " (('shorter', 'shortest'), 1),\n",
       " (('stay', 'day'), 1),\n",
       " (('WAEYAQ0M', 'm'), 1),\n",
       " (('IIGRA0MI', 'I'), 1),\n",
       " (('you', 'we'), 1),\n",
       " (('cafe', 'a'), 1),\n",
       " (('magdalene', 'Magdalen'), 1),\n",
       " (('and', 'in'), 1),\n",
       " (('post', 'postcode'), 1),\n",
       " (('code', 'is'), 1),\n",
       " (('is', 'cb30'), 1),\n",
       " (('cb30af', 'AF'), 1)]"
      ]
     },
     "execution_count": 15,
     "metadata": {},
     "output_type": "execute_result"
    }
   ],
   "source": [
    "Counter(deletions).most_common()"
   ]
  }
 ],
 "metadata": {
  "kernelspec": {
   "display_name": "Python 3 (ipykernel)",
   "language": "python",
   "name": "python3"
  },
  "language_info": {
   "codemirror_mode": {
    "name": "ipython",
    "version": 3
   },
   "file_extension": ".py",
   "mimetype": "text/x-python",
   "name": "python",
   "nbconvert_exporter": "python",
   "pygments_lexer": "ipython3",
   "version": "3.7.1"
  },
  "orig_nbformat": 4
 },
 "nbformat": 4,
 "nbformat_minor": 2
}

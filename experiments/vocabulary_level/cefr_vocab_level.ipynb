{
 "cells": [
  {
   "cell_type": "code",
   "execution_count": 1,
   "metadata": {},
   "outputs": [],
   "source": [
    "import os\n",
    "os.environ[\"CUDA_VISIBLE_DEVICES\"] = \"0\"\n",
    "import json\n",
    "import spacy\n",
    "from tqdm import tqdm\n",
    "from common_utils.multiwoz_data import make_tags, flatten_da, MultiWOZData"
   ]
  },
  {
   "cell_type": "code",
   "execution_count": 33,
   "metadata": {},
   "outputs": [
    {
     "name": "stderr",
     "output_type": "stream",
     "text": [
      "2022-05-07 17:40:12,029 WARNING multiwoz_data.py After removing white spaces before punctuation, span_info may become inconsistent.\n"
     ]
    }
   ],
   "source": [
    "part = \"train\"\n",
    "levels = [\"A1\", \"A2\", \"B1\", \"B2\", \"FULL\"]\n",
    "nlp = spacy.load('en_core_web_sm')\n",
    "multiwoz_data = MultiWOZData(rm_ws_before_punc=True)\n",
    "vocab_level = json.load(open(f\"./outputs/cefrj/{part}.json\"))"
   ]
  },
  {
   "cell_type": "code",
   "execution_count": 34,
   "metadata": {},
   "outputs": [],
   "source": [
    "level_tolerances = {\n",
    "    \"A1\": [\"NonAlpha+Stop\", \"A1\"],\n",
    "    \"A2\": [\"NonAlpha+Stop\", \"A1\", \"A2\"],\n",
    "    \"B1\": [\"NonAlpha+Stop\", \"A1\", \"A2\", \"B1\"],\n",
    "    \"B2\": [\"NonAlpha+Stop\", \"A1\", \"A2\", \"B1\", \"B2\"],\n",
    "    \"FULL\": [\"NonAlpha+Stop\", \"A1\", \"A2\", \"B1\", \"B2\", \"OOV\"]\n",
    "}"
   ]
  },
  {
   "cell_type": "code",
   "execution_count": 35,
   "metadata": {},
   "outputs": [
    {
     "name": "stderr",
     "output_type": "stream",
     "text": [
      "100%|██████████| 8434/8434 [05:45<00:00, 24.42it/s]\n"
     ]
    }
   ],
   "source": [
    "stats = {}\n",
    "for dial_name in tqdm(multiwoz_data[part]):\n",
    "    for i, side, turn in multiwoz_data.iter_dialog_log(part=part, dial_name=dial_name):\n",
    "        if side != \"sys\":\n",
    "            continue\n",
    "        words = [token.text for token in nlp(turn[\"text\"])]\n",
    "        das = [\"-\".join(da) for da in flatten_da(turn[\"dialog_act\"])]\n",
    "        for level in levels:\n",
    "            if vocab_level[dial_name][i] not in level_tolerances[level]:\n",
    "                continue\n",
    "            if level not in stats:\n",
    "                stats[level] = {\n",
    "                    \"turns\": 0,\n",
    "                    \"words\": [],\n",
    "                    \"das\": []\n",
    "                }\n",
    "            stats[level][\"turns\"] += 1\n",
    "            stats[level][\"words\"] += words\n",
    "            stats[level][\"das\"] += das\n",
    "            "
   ]
  },
  {
   "cell_type": "code",
   "execution_count": 36,
   "metadata": {},
   "outputs": [],
   "source": [
    "def print_stats(level_stats):\n",
    "    print(\"turns: \", level_stats[\"turns\"])\n",
    "    print(\"vocab: \", len(set(level_stats[\"words\"])))\n",
    "    print(\"das: \", len(level_stats[\"das\"]))\n",
    "    print(\"uniq das: \", len(set(level_stats[\"das\"])))"
   ]
  },
  {
   "cell_type": "code",
   "execution_count": 40,
   "metadata": {},
   "outputs": [
    {
     "name": "stdout",
     "output_type": "stream",
     "text": [
      "turns:  56750\n",
      "vocab:  15914\n",
      "das:  144634\n",
      "uniq das:  22253\n"
     ]
    }
   ],
   "source": [
    "print_stats(stats[\"FULL\"])"
   ]
  },
  {
   "cell_type": "code",
   "execution_count": null,
   "metadata": {},
   "outputs": [],
   "source": []
  }
 ],
 "metadata": {
  "interpreter": {
   "hash": "c5cf9bea3bb46037c82daed42bab7a4cc2acacb565c8010dd3aad15279f951f0"
  },
  "kernelspec": {
   "display_name": "Python 3.7.1 ('.venv': venv)",
   "language": "python",
   "name": "python3"
  },
  "language_info": {
   "codemirror_mode": {
    "name": "ipython",
    "version": 3
   },
   "file_extension": ".py",
   "mimetype": "text/x-python",
   "name": "python",
   "nbconvert_exporter": "python",
   "pygments_lexer": "ipython3",
   "version": "3.7.1"
  },
  "orig_nbformat": 4
 },
 "nbformat": 4,
 "nbformat_minor": 2
}

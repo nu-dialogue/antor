{
 "cells": [
  {
   "cell_type": "code",
   "execution_count": 1,
   "metadata": {},
   "outputs": [
    {
     "name": "stdout",
     "output_type": "stream",
     "text": [
      "/data/group1/z44383r/dev/rl-nlg/experiments/speech2text_data\n"
     ]
    }
   ],
   "source": [
    "%cd speech2text_data"
   ]
  },
  {
   "cell_type": "code",
   "execution_count": 2,
   "metadata": {},
   "outputs": [],
   "source": [
    "import os\n",
    "import wave\n",
    "import pandas as pd\n",
    "from tqdm import tqdm\n",
    "from common_utils.path import ROOT_DPATH\n",
    "from common_utils.multiwoz_data import MultiWOZData"
   ]
  },
  {
   "cell_type": "code",
   "execution_count": 4,
   "metadata": {},
   "outputs": [],
   "source": [
    "def audio_stats(audio_fpath):\n",
    "    with wave.open(audio_fpath,  'rb') as wr:\n",
    "        ch = wr.getnchannels()\n",
    "        width = wr.getsampwidth()\n",
    "        fr = wr.getframerate()\n",
    "        fn = wr.getnframes()\n",
    "\n",
    "    stats = {\n",
    "        \"channedls\": ch,\n",
    "        \"sample_width\": width,\n",
    "        \"sample_rate\": fr,\n",
    "        \"frame_rate\": fn,\n",
    "        \"length\": 1.0*fn/fr\n",
    "    }\n",
    "    return stats\n",
    "\n",
    "def main(part, side, multiwoz_data):\n",
    "    assert side in [\"sys\", \"user\"]\n",
    "    audio_dpath = os.path.join(ROOT_DPATH, \"experiments/text2speech_data/outputs/multiwoz\", part)\n",
    "    pbar = tqdm(multiwoz_data[part])\n",
    "    all_stats = []\n",
    "    for dial_name in pbar:\n",
    "        pbar.set_description(f\"Processing {dial_name}\")\n",
    "        audio_dial_dpath = os.path.join(audio_dpath, dial_name)\n",
    "        os.makedirs(audio_dial_dpath, exist_ok=True)\n",
    "        for i, s, turn in multiwoz_data.iter_dialog_log(part=part, dial_name=dial_name):\n",
    "            audio_fpath = os.path.join(audio_dial_dpath, f\"{i}.wav\")\n",
    "            if s != side or not os.path.isfile(audio_fpath):\n",
    "                continue\n",
    "            all_stats.append(audio_stats(audio_fpath))\n",
    "    return pd.DataFrame(all_stats)"
   ]
  },
  {
   "cell_type": "code",
   "execution_count": 6,
   "metadata": {},
   "outputs": [
    {
     "name": "stderr",
     "output_type": "stream",
     "text": [
      "2022-04-30 11:02:59,703 : WARNING - multiwoz_data.py - After removing white spaces before punctuation, span_info may become inconsistent.\n",
      "Processing MUL0501: 100%|██████████| 8434/8434 [16:47<00:00,  8.37it/s] \n"
     ]
    }
   ],
   "source": [
    "multiwoz_data = MultiWOZData(rm_ws_before_punc=True)\n",
    "df = main(\"train\", \"sys\", multiwoz_data)"
   ]
  },
  {
   "cell_type": "code",
   "execution_count": 8,
   "metadata": {},
   "outputs": [
    {
     "data": {
      "text/plain": [
       "channedls           1.000000\n",
       "sample_width        2.000000\n",
       "sample_rate     16000.000000\n",
       "frame_rate      90598.853692\n",
       "length              5.662428\n",
       "dtype: float64"
      ]
     },
     "execution_count": 8,
     "metadata": {},
     "output_type": "execute_result"
    }
   ],
   "source": [
    "df.mean()"
   ]
  }
 ],
 "metadata": {
  "kernelspec": {
   "display_name": "Python 3 (ipykernel)",
   "language": "python",
   "name": "python3"
  },
  "language_info": {
   "codemirror_mode": {
    "name": "ipython",
    "version": 3
   },
   "file_extension": ".py",
   "mimetype": "text/x-python",
   "name": "python",
   "nbconvert_exporter": "python",
   "pygments_lexer": "ipython3",
   "version": "3.7.1"
  },
  "orig_nbformat": 4
 },
 "nbformat": 4,
 "nbformat_minor": 2
}
